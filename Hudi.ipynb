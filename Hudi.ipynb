{
  "cells": [
    {
      "cell_type": "markdown",
      "metadata": {},
      "source": [
        "All these are Spark Scala Codes:"
      ]
    },
    {
      "cell_type": "code",
      "execution_count": null,
      "metadata": {},
      "outputs": [],
      "source": [
        "spark-shell \\\n",
        "  --packages org.apache.hudi:hudi-spark3.3-bundle_2.12:0.12.1 \\\n",
        "  --conf 'spark.serializer=org.apache.spark.serializer.KryoSerializer' \\\n",
        "  --conf 'spark.sql.catalog.spark_catalog=org.apache.spark.sql.hudi.catalog.HoodieCatalog' \\\n",
        "  --conf 'spark.sql.extensions=org.apache.spark.sql.hudi.HoodieSparkSessionExtension'"
      ]
    },
    {
      "cell_type": "code",
      "execution_count": null,
      "metadata": {
        "id": "OzgTY660SUV2"
      },
      "outputs": [],
      "source": [
        "import org.apache.hudi.QuickstartUtils._\n",
        "import scala.collection.JavaConversions._\n",
        "import org.apache.spark.sql.SaveMode._\n",
        "import org.apache.hudi.DataSourceReadOptions._\n",
        "import org.apache.hudi.DataSourceWriteOptions._\n",
        "import org.apache.hudi.config.HoodieWriteConfig._\n",
        "import org.apache.hudi.common.model.HoodieRecord\n",
        "\n",
        "val tableName = \"customers\"\n",
        "val basePath = \"/Users/nikhil.a/MerLake/customers_hudi\"\n",
        "import org.apache.spark.sql.SQLContext\n",
        "val sqlContext = new SQLContext(sc)\n",
        "val df = sqlContext.read.option(\"header\", \"true\").option(\"inferSchema\", \"true\").csv(\"/Users/nikhil.a/MerLake/customers.csv\")\n",
        "df.show()\n",
        "df.printSchema()\n",
        "df.write.format(\"hudi\").\n",
        "  options(getQuickstartWriteConfigs).\n",
        "  option(RECORDKEY_FIELD_OPT_KEY, \"identifierHash\").\n",
        "  option(PARTITIONPATH_FIELD_OPT_KEY, \"country\").\n",
        "  option(PRECOMBINE_FIELD_OPT_KEY, \"identifierHash\").\n",
        "  option(TABLE_NAME, tableName).\n",
        "  mode(Overwrite).\n",
        "  save(basePath)\n",
        "val customersSnapshotDF = spark.\n",
        "  read.\n",
        "  format(\"hudi\").\n",
        "  load(basePath)\n",
        "customersSnapshotDF.createOrReplaceTempView(\"hudi_customers_snapshot\")\n",
        "\n",
        "import java.util.Calendar\n",
        "val start = Calendar.getInstance.getTimeInMillis()\n",
        "spark.sql(\"select * from hudi_customers_snapshot where country='France'\")\n",
        "val end = Calendar.getInstance.getTimeInMillis()\n",
        "val duration = end - start"
      ]
    },
    {
      "cell_type": "code",
      "execution_count": null,
      "metadata": {
        "id": "6Y6m_KtVSe71"
      },
      "outputs": [],
      "source": [
        "# root\n",
        "#  |-- identifierHash: long (nullable = true)\n",
        "#  |-- type: string (nullable = true)\n",
        "#  |-- country: string (nullable = true)\n",
        "#  |-- language: string (nullable = true)\n",
        "#  |-- socialNbFollowers: integer (nullable = true)\n",
        "#  |-- socialNbFollows: integer (nullable = true)\n",
        "#  |-- socialProductsLiked: integer (nullable = true)\n",
        "#  |-- productsListed: integer (nullable = true)\n",
        "#  |-- productsSold: integer (nullable = true)\n",
        "#  |-- productsPassRate: double (nullable = true)\n",
        "#  |-- productsWished: integer (nullable = true)\n",
        "#  |-- productsBought: integer (nullable = true)\n",
        "#  |-- gender: string (nullable = true)\n",
        "#  |-- civilityGenderId: integer (nullable = true)\n",
        "#  |-- civilityTitle: string (nullable = true)\n",
        "#  |-- hasAnyApp: boolean (nullable = true)\n",
        "#  |-- hasAndroidApp: boolean (nullable = true)\n",
        "#  |-- hasIosApp: boolean (nullable = true)\n",
        "#  |-- hasProfilePicture: boolean (nullable = true)\n",
        "#  |-- daysSinceLastLogin: integer (nullable = true)\n",
        "#  |-- seniority: integer (nullable = true)\n",
        "#  |-- seniorityAsMonths: double (nullable = true)\n",
        "#  |-- seniorityAsYears: double (nullable = true)\n",
        "#  |-- countryCode: string (nullable = true)"
      ]
    },
    {
      "cell_type": "code",
      "execution_count": null,
      "metadata": {
        "id": "GLKsXJ5a8eFS"
      },
      "outputs": [],
      "source": [
        "import org.apache.hudi.QuickstartUtils._\n",
        "import scala.collection.JavaConversions._\n",
        "import org.apache.spark.sql.SaveMode._\n",
        "import org.apache.hudi.DataSourceReadOptions._\n",
        "import org.apache.hudi.DataSourceWriteOptions._\n",
        "import org.apache.hudi.config.HoodieWriteConfig._\n",
        "import org.apache.hudi.common.model.HoodieRecord\n",
        "\n",
        "val tableName = \"customers\"\n",
        "val basePath = \"/Users/nikhil.a/MerLake/customers_hudi\""
      ]
    },
    {
      "cell_type": "code",
      "execution_count": null,
      "metadata": {
        "id": "WKYTCQwbJYP6"
      },
      "outputs": [],
      "source": [
        "import org.apache.spark.sql.SQLContext\n",
        "val sqlContext = new SQLContext(sc)\n",
        "val df = sqlContext.read.option(\"header\", \"true\").option(\"inferSchema\", \"true\").csv(\"/Users/nikhil.a/MerLake/customers.csv\")\n",
        "df.show()\n",
        "df.printSchema()"
      ]
    },
    {
      "cell_type": "code",
      "execution_count": null,
      "metadata": {
        "id": "jW428xBf8dcM"
      },
      "outputs": [],
      "source": [
        "df.write.format(\"hudi\").\n",
        "  options(getQuickstartWriteConfigs).\n",
        "  option(RECORDKEY_FIELD_OPT_KEY, \"identifierHash\").\n",
        "  option(PARTITIONPATH_FIELD_OPT_KEY, \"country\").\n",
        "  option(PRECOMBINE_FIELD_OPT_KEY, \"identifierHash\").\n",
        "  option(TABLE_NAME, tableName).\n",
        "  mode(Overwrite).\n",
        "  save(basePath)"
      ]
    },
    {
      "cell_type": "code",
      "execution_count": null,
      "metadata": {
        "id": "YSdDMkJV8l2E"
      },
      "outputs": [],
      "source": [
        "val customersSnapshotDF = spark.\n",
        "  read.\n",
        "  format(\"hudi\").\n",
        "  load(basePath)\n",
        "customersSnapshotDF.createOrReplaceTempView(\"hudi_customers_snapshot\")\n",
        "\n",
        "import java.util.Calendar\n",
        "val start = Calendar.getInstance.getTimeInMillis()\n",
        "spark.sql(\"select * from hudi_customers_snapshot where country='France'\")\n",
        "val end = Calendar.getInstance.getTimeInMillis()\n",
        "val duration = end - start"
      ]
    },
    {
      "cell_type": "code",
      "execution_count": null,
      "metadata": {
        "id": "uv3Ka-HOQqmM"
      },
      "outputs": [],
      "source": [
        "# spark.sql(\"select * from hudi_customers_snapshot where country = 'France'\")\n",
        "# spark.sql(\"select identifierHash, socialNbFollowers, country from hudi_customers_snapshot where country = 'France'\")"
      ]
    },
    {
      "cell_type": "code",
      "execution_count": null,
      "metadata": {
        "id": "kccAsvgPQpNs"
      },
      "outputs": [],
      "source": [
        "# import org.apache.spark.sql.types.{StructType, StructField, StringType, IntegerType, LongType};\n",
        "# val schema = new StructType()\n",
        "#       .add(\"identifierHash\",LongType,true)\n",
        "#       .add(\"socialNbFollowers\",IntegerType,true)\n",
        "#       .add(\"country\",StringType,true)\n",
        "# val df_with_schema = spark.read.format(\"csv\")\n",
        "#       .option(\"header\", \"true\")\n",
        "#       .schema(schema)\n",
        "#       .load(\"/Users/nikhil.a/MerLake/test.csv\")\n",
        "# df_with_schema.printSchema()\n",
        "# df_with_schema.show(false)"
      ]
    }
  ],
  "metadata": {
    "colab": {
      "provenance": []
    },
    "kernelspec": {
      "display_name": "Python 3.10.8 64-bit",
      "language": "python",
      "name": "python3"
    },
    "language_info": {
      "name": "python",
      "version": "3.10.8"
    },
    "vscode": {
      "interpreter": {
        "hash": "b0fa6594d8f4cbf19f97940f81e996739fb7646882a419484c72d19e05852a7e"
      }
    }
  },
  "nbformat": 4,
  "nbformat_minor": 0
}
